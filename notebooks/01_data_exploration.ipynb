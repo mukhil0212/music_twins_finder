{
 "cells": [
  {
   "cell_type": "markdown",
   "metadata": {},
   "source": [
    "# 01. Data Exploration\n",
    "\n",
    "This notebook explores the Spotify dataset to understand user listening patterns, track features, and data distributions."
   ]
  },
  {
   "cell_type": "code",
   "execution_count": null,
   "metadata": {},
   "outputs": [],
   "source": [
    "import pandas as pd\n",
    "import numpy as np\n",
    "import matplotlib.pyplot as plt\n",
    "import seaborn as sns\n",
    "from datetime import datetime\n",
    "import warnings\n",
    "warnings.filterwarnings('ignore')\n",
    "\n",
    "# Set visualization style\n",
    "plt.style.use('seaborn-v0_8-darkgrid')\n",
    "sns.set_palette('husl')"
   ]
  },
  {
   "cell_type": "markdown",
   "metadata": {},
   "source": [
    "## Load Data"
   ]
  },
  {
   "cell_type": "code",
   "execution_count": null,
   "metadata": {},
   "outputs": [],
   "source": [
    "# Load datasets\n",
    "listening_history = pd.read_csv('../data/raw/listening_history.csv')\n",
    "track_features = pd.read_csv('../data/raw/track_features.csv')\n",
    "\n",
    "print(f\"Listening History: {listening_history.shape}\")\n",
    "print(f\"Track Features: {track_features.shape}\")"
   ]
  },
  {
   "cell_type": "markdown",
   "metadata": {},
   "source": [
    "## Basic Data Overview"
   ]
  },
  {
   "cell_type": "code",
   "execution_count": null,
   "metadata": {},
   "outputs": [],
   "source": [
    "# Listening history overview\n",
    "print(\"=== Listening History ===\\n\")\n",
    "print(listening_history.info())\n",
    "print(\"\\nFirst 5 rows:\")\n",
    "listening_history.head()"
   ]
  },
  {
   "cell_type": "code",
   "execution_count": null,
   "metadata": {},
   "outputs": [],
   "source": [
    "# Track features overview\n",
    "print(\"=== Track Features ===\\n\")\n",
    "print(track_features.info())\n",
    "print(\"\\nFirst 5 rows:\")\n",
    "track_features.head()"
   ]
  },
  {
   "cell_type": "markdown",
   "metadata": {},
   "source": [
    "## User Listening Patterns"
   ]
  },
  {
   "cell_type": "code",
   "execution_count": null,
   "metadata": {},
   "outputs": [],
   "source": [
    "# User activity distribution\n",
    "user_stats = listening_history.groupby('user_id').agg({\n",
    "    'track_id': 'count',\n",
    "    'timestamp': ['min', 'max']\n",
    "}).reset_index()\n",
    "\n",
    "user_stats.columns = ['user_id', 'total_plays', 'first_play', 'last_play']\n",
    "user_stats['active_days'] = (pd.to_datetime(user_stats['last_play']) - \n",
    "                             pd.to_datetime(user_stats['first_play'])).dt.days\n",
    "\n",
    "print(f\"Total users: {user_stats.shape[0]:,}\")\n",
    "print(f\"Average plays per user: {user_stats['total_plays'].mean():.1f}\")\n",
    "print(f\"Median plays per user: {user_stats['total_plays'].median():.1f}\")"
   ]
  },
  {
   "cell_type": "code",
   "execution_count": null,
   "metadata": {},
   "outputs": [],
   "source": [
    "# Visualize user activity distribution\n",
    "fig, axes = plt.subplots(2, 2, figsize=(15, 10))\n",
    "\n",
    "# Play count distribution\n",
    "axes[0, 0].hist(user_stats['total_plays'], bins=50, edgecolor='black', alpha=0.7)\n",
    "axes[0, 0].set_xlabel('Total Plays')\n",
    "axes[0, 0].set_ylabel('Number of Users')\n",
    "axes[0, 0].set_title('Distribution of User Play Counts')\n",
    "axes[0, 0].set_yscale('log')\n",
    "\n",
    "# Top users\n",
    "top_users = user_stats.nlargest(20, 'total_plays')\n",
    "axes[0, 1].bar(range(len(top_users)), top_users['total_plays'])\n",
    "axes[0, 1].set_xlabel('User Rank')\n",
    "axes[0, 1].set_ylabel('Total Plays')\n",
    "axes[0, 1].set_title('Top 20 Most Active Users')\n",
    "\n",
    "# Active days distribution\n",
    "axes[1, 0].hist(user_stats['active_days'], bins=50, edgecolor='black', alpha=0.7)\n",
    "axes[1, 0].set_xlabel('Active Days')\n",
    "axes[1, 0].set_ylabel('Number of Users')\n",
    "axes[1, 0].set_title('User Activity Period Distribution')\n",
    "\n",
    "# Plays vs active days\n",
    "axes[1, 1].scatter(user_stats['active_days'], user_stats['total_plays'], alpha=0.5)\n",
    "axes[1, 1].set_xlabel('Active Days')\n",
    "axes[1, 1].set_ylabel('Total Plays')\n",
    "axes[1, 1].set_title('Plays vs Activity Period')\n",
    "axes[1, 1].set_yscale('log')\n",
    "\n",
    "plt.tight_layout()\n",
    "plt.show()"
   ]
  },
  {
   "cell_type": "markdown",
   "metadata": {},
   "source": [
    "## Track Popularity Analysis"
   ]
  },
  {
   "cell_type": "code",
   "execution_count": null,
   "metadata": {},
   "outputs": [],
   "source": [
    "# Track play counts\n",
    "track_popularity = listening_history['track_id'].value_counts().reset_index()\n",
    "track_popularity.columns = ['track_id', 'play_count']\n",
    "\n",
    "# Merge with track features\n",
    "track_analysis = track_popularity.merge(track_features, on='track_id', how='left')\n",
    "\n",
    "print(f\"Total unique tracks: {track_popularity.shape[0]:,}\")\n",
    "print(f\"Tracks with features: {track_analysis.dropna().shape[0]:,}\")\n",
    "print(f\"\\nTop 10 most played tracks:\")\n",
    "track_analysis.head(10)[['track_id', 'track_name', 'artist_name', 'play_count']]"
   ]
  },
  {
   "cell_type": "code",
   "execution_count": null,
   "metadata": {},
   "outputs": [],
   "source": [
    "# Track popularity distribution\n",
    "fig, axes = plt.subplots(1, 2, figsize=(15, 5))\n",
    "\n",
    "# Play count distribution\n",
    "axes[0].hist(track_popularity['play_count'], bins=50, edgecolor='black', alpha=0.7)\n",
    "axes[0].set_xlabel('Play Count')\n",
    "axes[0].set_ylabel('Number of Tracks')\n",
    "axes[0].set_title('Track Popularity Distribution')\n",
    "axes[0].set_yscale('log')\n",
    "axes[0].set_xscale('log')\n",
    "\n",
    "# Cumulative distribution\n",
    "sorted_plays = np.sort(track_popularity['play_count'])[::-1]\n",
    "cumulative_pct = np.cumsum(sorted_plays) / np.sum(sorted_plays) * 100\n",
    "track_pct = np.arange(1, len(sorted_plays) + 1) / len(sorted_plays) * 100\n",
    "\n",
    "axes[1].plot(track_pct, cumulative_pct)\n",
    "axes[1].axhline(y=80, color='r', linestyle='--', label='80% of plays')\n",
    "axes[1].set_xlabel('Percentage of Tracks')\n",
    "axes[1].set_ylabel('Cumulative Percentage of Plays')\n",
    "axes[1].set_title('Cumulative Play Distribution')\n",
    "axes[1].legend()\n",
    "axes[1].grid(True)\n",
    "\n",
    "plt.tight_layout()\n",
    "plt.show()\n",
    "\n",
    "# Find the 80-20 point\n",
    "idx_80 = np.where(cumulative_pct >= 80)[0][0]\n",
    "print(f\"{idx_80/len(sorted_plays)*100:.1f}% of tracks account for 80% of all plays\")"
   ]
  },
  {
   "cell_type": "markdown",
   "metadata": {},
   "source": [
    "## Audio Feature Distributions"
   ]
  },
  {
   "cell_type": "code",
   "execution_count": null,
   "metadata": {},
   "outputs": [],
   "source": [
    "# Select audio features\n",
    "audio_features = ['danceability', 'energy', 'loudness', 'speechiness', \n",
    "                  'acousticness', 'instrumentalness', 'liveness', 'valence', 'tempo']\n",
    "\n",
    "# Create feature distribution plots\n",
    "fig, axes = plt.subplots(3, 3, figsize=(15, 12))\n",
    "axes = axes.ravel()\n",
    "\n",
    "for i, feature in enumerate(audio_features):\n",
    "    if feature in track_features.columns:\n",
    "        track_features[feature].hist(bins=50, ax=axes[i], edgecolor='black', alpha=0.7)\n",
    "        axes[i].set_title(f'{feature.capitalize()} Distribution')\n",
    "        axes[i].set_xlabel(feature.capitalize())\n",
    "        axes[i].set_ylabel('Count')\n",
    "        \n",
    "        # Add mean line\n",
    "        mean_val = track_features[feature].mean()\n",
    "        axes[i].axvline(mean_val, color='red', linestyle='--', \n",
    "                        label=f'Mean: {mean_val:.2f}')\n",
    "        axes[i].legend()\n",
    "\n",
    "plt.tight_layout()\n",
    "plt.show()"
   ]
  },
  {
   "cell_type": "code",
   "execution_count": null,
   "metadata": {},
   "outputs": [],
   "source": [
    "# Feature correlation heatmap\n",
    "if all(f in track_features.columns for f in audio_features):\n",
    "    plt.figure(figsize=(10, 8))\n",
    "    correlation_matrix = track_features[audio_features].corr()\n",
    "    sns.heatmap(correlation_matrix, annot=True, cmap='coolwarm', center=0,\n",
    "                square=True, linewidths=1, cbar_kws={\"shrink\": 0.8})\n",
    "    plt.title('Audio Feature Correlations')\n",
    "    plt.tight_layout()\n",
    "    plt.show()"
   ]
  },
  {
   "cell_type": "markdown",
   "metadata": {},
   "source": [
    "## Temporal Patterns"
   ]
  },
  {
   "cell_type": "code",
   "execution_count": null,
   "metadata": {},
   "outputs": [],
   "source": [
    "# Convert timestamp to datetime\n",
    "listening_history['datetime'] = pd.to_datetime(listening_history['timestamp'])\n",
    "listening_history['hour'] = listening_history['datetime'].dt.hour\n",
    "listening_history['day_of_week'] = listening_history['datetime'].dt.dayofweek\n",
    "listening_history['month'] = listening_history['datetime'].dt.month\n",
    "\n",
    "# Hourly listening patterns\n",
    "hourly_plays = listening_history.groupby('hour').size()\n",
    "\n",
    "# Day of week patterns\n",
    "days = ['Mon', 'Tue', 'Wed', 'Thu', 'Fri', 'Sat', 'Sun']\n",
    "daily_plays = listening_history.groupby('day_of_week').size()\n",
    "\n",
    "# Create temporal visualization\n",
    "fig, axes = plt.subplots(1, 2, figsize=(15, 5))\n",
    "\n",
    "# Hourly pattern\n",
    "axes[0].bar(hourly_plays.index, hourly_plays.values, edgecolor='black')\n",
    "axes[0].set_xlabel('Hour of Day')\n",
    "axes[0].set_ylabel('Number of Plays')\n",
    "axes[0].set_title('Listening Activity by Hour')\n",
    "axes[0].set_xticks(range(0, 24, 2))\n",
    "\n",
    "# Daily pattern\n",
    "axes[1].bar(range(7), daily_plays.values, edgecolor='black')\n",
    "axes[1].set_xlabel('Day of Week')\n",
    "axes[1].set_ylabel('Number of Plays')\n",
    "axes[1].set_title('Listening Activity by Day of Week')\n",
    "axes[1].set_xticks(range(7))\n",
    "axes[1].set_xticklabels(days)\n",
    "\n",
    "plt.tight_layout()\n",
    "plt.show()"
   ]
  },
  {
   "cell_type": "markdown",
   "metadata": {},
   "source": [
    "## Genre Analysis"
   ]
  },
  {
   "cell_type": "code",
   "execution_count": null,
   "metadata": {},
   "outputs": [],
   "source": [
    "# Genre distribution (if available)\n",
    "if 'genre' in track_features.columns:\n",
    "    # Merge listening history with track features to get genres\n",
    "    history_with_features = listening_history.merge(track_features[['track_id', 'genre']], \n",
    "                                                   on='track_id', how='left')\n",
    "    \n",
    "    # Genre play counts\n",
    "    genre_plays = history_with_features['genre'].value_counts().head(20)\n",
    "    \n",
    "    plt.figure(figsize=(12, 6))\n",
    "    genre_plays.plot(kind='bar', edgecolor='black')\n",
    "    plt.xlabel('Genre')\n",
    "    plt.ylabel('Number of Plays')\n",
    "    plt.title('Top 20 Genres by Play Count')\n",
    "    plt.xticks(rotation=45, ha='right')\n",
    "    plt.tight_layout()\n",
    "    plt.show()\n",
    "else:\n",
    "    print(\"Genre information not available in the dataset\")"
   ]
  },
  {
   "cell_type": "markdown",
   "metadata": {},
   "source": [
    "## Summary Statistics"
   ]
  },
  {
   "cell_type": "code",
   "execution_count": null,
   "metadata": {},
   "outputs": [],
   "source": [
    "# Create summary report\n",
    "print(\"=== DATASET SUMMARY ===\")\n",
    "print(f\"\\nTotal listening events: {listening_history.shape[0]:,}\")\n",
    "print(f\"Unique users: {listening_history['user_id'].nunique():,}\")\n",
    "print(f\"Unique tracks: {listening_history['track_id'].nunique():,}\")\n",
    "print(f\"Date range: {listening_history['datetime'].min()} to {listening_history['datetime'].max()}\")\n",
    "\n",
    "print(\"\\n=== USER STATISTICS ===\")\n",
    "print(f\"Avg plays per user: {user_stats['total_plays'].mean():.1f}\")\n",
    "print(f\"Median plays per user: {user_stats['total_plays'].median():.1f}\")\n",
    "print(f\"Max plays by single user: {user_stats['total_plays'].max():,}\")\n",
    "\n",
    "print(\"\\n=== TRACK STATISTICS ===\")\n",
    "print(f\"Avg plays per track: {track_popularity['play_count'].mean():.1f}\")\n",
    "print(f\"Median plays per track: {track_popularity['play_count'].median():.1f}\")\n",
    "print(f\"Most played track: {track_popularity['play_count'].max():,} plays\")\n",
    "\n",
    "if all(f in track_features.columns for f in audio_features):\n",
    "    print(\"\\n=== AUDIO FEATURE AVERAGES ===\")\n",
    "    for feature in audio_features:\n",
    "        print(f\"{feature.capitalize()}: {track_features[feature].mean():.3f}\")"
   ]
  },
  {
   "cell_type": "markdown",
   "metadata": {},
   "source": [
    "## Data Quality Check"
   ]
  },
  {
   "cell_type": "code",
   "execution_count": null,
   "metadata": {},
   "outputs": [],
   "source": [
    "# Check for missing values\n",
    "print(\"=== MISSING VALUES ===\")\n",
    "print(\"\\nListening History:\")\n",
    "print(listening_history.isnull().sum())\n",
    "print(\"\\nTrack Features:\")\n",
    "print(track_features.isnull().sum())\n",
    "\n",
    "# Check for duplicates\n",
    "print(\"\\n=== DUPLICATES ===\")\n",
    "dup_history = listening_history.duplicated().sum()\n",
    "dup_tracks = track_features.duplicated(subset=['track_id']).sum()\n",
    "print(f\"Duplicate listening events: {dup_history:,}\")\n",
    "print(f\"Duplicate track entries: {dup_tracks:,}\")\n",
    "\n",
    "# Track coverage\n",
    "tracks_in_history = set(listening_history['track_id'].unique())\n",
    "tracks_with_features = set(track_features['track_id'].unique())\n",
    "coverage = len(tracks_in_history.intersection(tracks_with_features)) / len(tracks_in_history) * 100\n",
    "print(f\"\\n=== FEATURE COVERAGE ===\")\n",
    "print(f\"Tracks with audio features: {coverage:.1f}%\")"
   ]
  },
  {
   "cell_type": "markdown",
   "metadata": {},
   "source": [
    "## Save Processed Data"
   ]
  },
  {
   "cell_type": "code",
   "execution_count": null,
   "metadata": {},
   "outputs": [],
   "source": [
    "# Save user statistics for future use\n",
    "user_stats.to_csv('../data/processed/user_statistics.csv', index=False)\n",
    "print(\"User statistics saved to ../data/processed/user_statistics.csv\")\n",
    "\n",
    "# Save track popularity data\n",
    "track_analysis.to_csv('../data/processed/track_popularity.csv', index=False)\n",
    "print(\"Track popularity data saved to ../data/processed/track_popularity.csv\")"
   ]
  }
 ],
 "metadata": {
  "kernelspec": {
   "display_name": "Python 3",
   "language": "python",
   "name": "python3"
  },
  "language_info": {
   "codemirror_mode": {
    "name": "ipython",
    "version": 3
   },
   "file_extension": ".py",
   "mimetype": "text/x-python",
   "name": "python",
   "nbconvert_exporter": "python",
   "pygments_lexer": "ipython3",
   "version": "3.8.0"
  }
 },
 "nbformat": 4,
 "nbformat_minor": 4
}